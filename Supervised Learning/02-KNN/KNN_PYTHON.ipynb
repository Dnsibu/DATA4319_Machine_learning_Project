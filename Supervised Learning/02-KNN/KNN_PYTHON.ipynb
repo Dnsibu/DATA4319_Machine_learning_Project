{
 "cells": [
  {
   "cell_type": "markdown",
   "metadata": {},
   "source": [
    "# K-Nearest Neighbors (KNN)\n",
    "## Language: Python\n",
    "## Author: Daisy Nsibu\n",
    "### Data 4319 - Statistical and Machine Learning"
   ]
  },
  {
   "cell_type": "markdown",
   "metadata": {},
   "source": [
    "# Introduction"
   ]
  },
  {
   "cell_type": "markdown",
   "metadata": {},
   "source": [
    "Nearest neighbors is one of the simplest predictive models there is. It makes no math‐ematical assumptions, and it doesn’t require any sort of heavy machinery. \n",
    "The only things it requires are:\n",
    "\n",
    "•\tSome notion of distance\n",
    "\n",
    "•\tAn assumption that points that are close to one another are similar"
   ]
  },
  {
   "cell_type": "markdown",
   "metadata": {},
   "source": [
    "### What is KNN?\n",
    "\n",
    "A simple supervised learning algorithm. So this algorithm can be used for:\n",
    "+ classification ( the labels are qualitative, os some type of class)\n",
    "+ regression ( have labels that are continous, real values)\n",
    "+ search (reccomendations) algorithm\n",
    "\n",
    "### How does kNN work?\n",
    "\n",
    "![](https://camo.githubusercontent.com/734e103045a2504d7ebf7190471a83deb33353a76a4baaff8993999312a5db0f/68747470733a2f2f7777772e636f72796a6d616b6c696e2e636f6d2f6d656469612f6d616368696e652d6c6561726e696e672d616c676f726974686d732d706172742d362d6b2d6e6561726573742d6e65696768626f72732d696e2d707974686f6e2d312e706e67)\n",
    "\n",
    "It makes no mathematical assumptions, and it doesn’t require any sort of heavy machinery. \n",
    "\n",
    "The only things it requires are:\n",
    "\n",
    "•\tSome notion of distance\n",
    "\n",
    "•\tAn assumption that points that are close to one another are similar\n",
    "\n",
    "If we take a look at the graph,  we can determine the  class of the new point (star) if we look to the *k* closest neighbors to the star. The way the *k* nearest neighbors works is sort of similar to a [greedy algorithm](https://en.wikipedia.org/wiki/Greedy_algorithm) approach. so we see of  all of the neighbors that are with this new point, we're going to take the mode of them. There's either type 1 or type 2. So with this observation we would predict that since the purple's (class b) dominate everything at *k=3* , we would predict that this new point is a purple point, because the *k* closest things, the closest feature vectors to that feature vector are class B (purple). However, at *k=6* we would predict that this new point is a yellow point, because the *k* closest things, the closest feature vectors to that feature vector are class A (yellow). So we assume that all the class B data points kind of lie around each other, and all the class A data points hangout together.\n",
    "\n",
    "In order to implement k-nearest neighbors we some metric to determine distance. In this notebook, we're going to use the **standard euclidean distance**.\n",
    "\n",
    "$$d(x^{i}, x^{j}) = \\sqrt{\\sum_{n=1}^{l}(x^{i}_{n}-x^{j}_{n})^{2}}$$\n",
    "\n",
    "So, we choose a value for k and then we put it in n dimensional space and then we calculate all the points around it. The *k* closest of those for classification, the mode of that, out of *k* would give us our label. It's kind of assuming the data, the feature vectors all hangout together sort of in classes. \n",
    "\n",
    "So in classification typically we're going to choose *k* to be odd, because that will break the ties that might happen. You might choose an even *k* and you might have two neighbors of class 1 and two neighbors of class 2. So, in order to break that classification we typically choose k to be odd.\n",
    "\n",
    "When dealing with regression of the *k* closest points, you take the mean of those *k* closest points and that gives you your real number output.\n",
    "\n",
    "#### Advantages\n",
    "+ simple, very easy to implement from scratch\n",
    "+ no optimization of parameters\n",
    "So when we look at the PLA, we were iteratively updating the weights for our model. We were basically optimizing our weights. In kNN we're not optimizing weights at all because there's no parameters to optimize there. We are admittedly doing a greeedy appraoch, looking at the k nearest things to the point in question and then the majority rules and so that's the label it gets.\n",
    "+ easy to do classification, regression, and reccomendations\n",
    "\n",
    "#### Disadvantages\n",
    "+ slow\n",
    "+ sensitive to high dimension feature vectors\n",
    "So when your feature vectors are very high dimensional this notion of distance *d* might not capture how the points relate to each other."
   ]
  },
  {
   "cell_type": "markdown",
   "metadata": {},
   "source": [
    "# 2. Implementing k-Nearest Neighbors\n",
    "### Load Packages"
   ]
  },
  {
   "cell_type": "code",
   "execution_count": 1,
   "metadata": {},
   "outputs": [],
   "source": [
    "from math import sqrt\n",
    "import pandas as pd\n",
    "import numpy as np \n",
    "from collections import Counter"
   ]
  },
  {
   "cell_type": "markdown",
   "metadata": {},
   "source": [
    "### Distance Function"
   ]
  },
  {
   "cell_type": "code",
   "execution_count": 2,
   "metadata": {},
   "outputs": [],
   "source": [
    "# standard euclidean distance\n",
    "def euclidean_distance(row1, row2):\n",
    "    distance = 0.0\n",
    "    for i in range(len(row1)-1):\n",
    "        distance += (row1[i] - row2[i])**2\n",
    "        return sqrt(distance)"
   ]
  },
  {
   "cell_type": "markdown",
   "metadata": {},
   "source": [
    "### Locating Nearest Neighbors\n",
    "The distance function is used to calculate the distance between each train_row and the new test_row."
   ]
  },
  {
   "cell_type": "code",
   "execution_count": 3,
   "metadata": {},
   "outputs": [],
   "source": [
    "def knn(train_x, train_y, dis_func, sample, k):\n",
    "    \n",
    "    distances = {}\n",
    "    for i in range(len(train_x)):\n",
    "        d = dis_function(sample, train_x.iloc[i])\n",
    "        distances[i] = d\n",
    "    sorted_dist = sorted(distances.items(), key = lambda x : (x[1], x[0]))\n",
    "    # take k nearest neighbors\n",
    "    neighbors = []\n",
    "    for i in range(k):\n",
    "        neighbors.append(sorted_dist[i][0])\n",
    "    \n",
    "    #convert indices into groups\n",
    "    groups = [train_y.iloc[c] for c in neighbors]\n",
    "    \n",
    "    #count each group in top k\n",
    "    counts = Counter(groups)\n",
    "    \n",
    "    #max number of samples of a class\n",
    "    list_values = list(counts.values())\n",
    "    list_keys = list(counts.keys())\n",
    "    gr = list_keys[list_values.index(max(list_values))]\n",
    "    \n",
    "    return gr"
   ]
  },
  {
   "cell_type": "markdown",
   "metadata": {},
   "source": [
    "---\n",
    "# Study of Penguins Species on Antarctica Case\n",
    "---"
   ]
  },
  {
   "cell_type": "markdown",
   "metadata": {},
   "source": [
    "![](https://github.com/allisonhorst/palmerpenguins/raw/master/man/figures/lter_penguins.png)"
   ]
  },
  {
   "cell_type": "markdown",
   "metadata": {},
   "source": [
    "There are many different penguin species, but the 8 most iconic live in Antarctica, its nearby islands, and the sub-Antarctic archipelagos of South Georgia and the Falklands.\n",
    "In this notebook I focus to mainly 3 type of penguins: \n",
    "**Adelie, Gentoo & Chinstrap Penguins**"
   ]
  },
  {
   "cell_type": "code",
   "execution_count": 4,
   "metadata": {},
   "outputs": [],
   "source": [
    "# k-nearest neighbors on the penguins Dataset\n",
    "penguin = pd.read_csv('penguins.csv')"
   ]
  },
  {
   "cell_type": "markdown",
   "metadata": {},
   "source": [
    "### Understanding the Data"
   ]
  },
  {
   "cell_type": "code",
   "execution_count": 5,
   "metadata": {},
   "outputs": [
    {
     "data": {
      "text/html": [
       "<div>\n",
       "<style scoped>\n",
       "    .dataframe tbody tr th:only-of-type {\n",
       "        vertical-align: middle;\n",
       "    }\n",
       "\n",
       "    .dataframe tbody tr th {\n",
       "        vertical-align: top;\n",
       "    }\n",
       "\n",
       "    .dataframe thead th {\n",
       "        text-align: right;\n",
       "    }\n",
       "</style>\n",
       "<table border=\"1\" class=\"dataframe\">\n",
       "  <thead>\n",
       "    <tr style=\"text-align: right;\">\n",
       "      <th></th>\n",
       "      <th>species</th>\n",
       "      <th>island</th>\n",
       "      <th>culmen_length_mm</th>\n",
       "      <th>culmen_depth_mm</th>\n",
       "      <th>flipper_length_mm</th>\n",
       "      <th>body_mass_g</th>\n",
       "      <th>sex</th>\n",
       "    </tr>\n",
       "  </thead>\n",
       "  <tbody>\n",
       "    <tr>\n",
       "      <th>0</th>\n",
       "      <td>Adelie</td>\n",
       "      <td>Torgersen</td>\n",
       "      <td>39.1</td>\n",
       "      <td>18.7</td>\n",
       "      <td>181</td>\n",
       "      <td>3750</td>\n",
       "      <td>MALE</td>\n",
       "    </tr>\n",
       "    <tr>\n",
       "      <th>1</th>\n",
       "      <td>Adelie</td>\n",
       "      <td>Torgersen</td>\n",
       "      <td>39.5</td>\n",
       "      <td>17.4</td>\n",
       "      <td>186</td>\n",
       "      <td>3800</td>\n",
       "      <td>FEMALE</td>\n",
       "    </tr>\n",
       "    <tr>\n",
       "      <th>2</th>\n",
       "      <td>Adelie</td>\n",
       "      <td>Torgersen</td>\n",
       "      <td>40.3</td>\n",
       "      <td>18.0</td>\n",
       "      <td>195</td>\n",
       "      <td>3250</td>\n",
       "      <td>FEMALE</td>\n",
       "    </tr>\n",
       "    <tr>\n",
       "      <th>3</th>\n",
       "      <td>Adelie</td>\n",
       "      <td>Torgersen</td>\n",
       "      <td>36.7</td>\n",
       "      <td>19.3</td>\n",
       "      <td>193</td>\n",
       "      <td>3450</td>\n",
       "      <td>FEMALE</td>\n",
       "    </tr>\n",
       "    <tr>\n",
       "      <th>4</th>\n",
       "      <td>Adelie</td>\n",
       "      <td>Torgersen</td>\n",
       "      <td>39.3</td>\n",
       "      <td>20.6</td>\n",
       "      <td>190</td>\n",
       "      <td>3650</td>\n",
       "      <td>MALE</td>\n",
       "    </tr>\n",
       "    <tr>\n",
       "      <th>5</th>\n",
       "      <td>Adelie</td>\n",
       "      <td>Torgersen</td>\n",
       "      <td>38.9</td>\n",
       "      <td>17.8</td>\n",
       "      <td>181</td>\n",
       "      <td>3625</td>\n",
       "      <td>FEMALE</td>\n",
       "    </tr>\n",
       "  </tbody>\n",
       "</table>\n",
       "</div>"
      ],
      "text/plain": [
       "  species     island  culmen_length_mm  culmen_depth_mm  flipper_length_mm  \\\n",
       "0  Adelie  Torgersen              39.1             18.7                181   \n",
       "1  Adelie  Torgersen              39.5             17.4                186   \n",
       "2  Adelie  Torgersen              40.3             18.0                195   \n",
       "3  Adelie  Torgersen              36.7             19.3                193   \n",
       "4  Adelie  Torgersen              39.3             20.6                190   \n",
       "5  Adelie  Torgersen              38.9             17.8                181   \n",
       "\n",
       "   body_mass_g     sex  \n",
       "0         3750    MALE  \n",
       "1         3800  FEMALE  \n",
       "2         3250  FEMALE  \n",
       "3         3450  FEMALE  \n",
       "4         3650    MALE  \n",
       "5         3625  FEMALE  "
      ]
     },
     "execution_count": 5,
     "metadata": {},
     "output_type": "execute_result"
    }
   ],
   "source": [
    "penguin.shape\n",
    "penguin.columns\n",
    "penguin.head(6)"
   ]
  },
  {
   "cell_type": "markdown",
   "metadata": {},
   "source": [
    "The dataset consists of 7 columns.\n",
    "\n",
    "* species: penguin species (Chinstrap, Adélie, or Gentoo)\n",
    "* island: island name (Dream, Torgersen, or Biscoe) in the Palmer \n",
    "* Archipelago (Antarctica)\n",
    "* culmen_length_mm: culmen length (mm)\n",
    "* culmen_depth_mm: culmen depth (mm)\n",
    "* flipper_length_mm: flipper length (mm)\n",
    "* body_mass_g: body mass (g)\n",
    "* sex: penguin sex"
   ]
  },
  {
   "cell_type": "code",
   "execution_count": 6,
   "metadata": {
    "scrolled": true
   },
   "outputs": [
    {
     "name": "stdout",
     "output_type": "stream",
     "text": [
      "<class 'pandas.core.frame.DataFrame'>\n",
      "RangeIndex: 334 entries, 0 to 333\n",
      "Data columns (total 7 columns):\n",
      " #   Column             Non-Null Count  Dtype  \n",
      "---  ------             --------------  -----  \n",
      " 0   species            334 non-null    object \n",
      " 1   island             334 non-null    object \n",
      " 2   culmen_length_mm   334 non-null    float64\n",
      " 3   culmen_depth_mm    334 non-null    float64\n",
      " 4   flipper_length_mm  334 non-null    int64  \n",
      " 5   body_mass_g        334 non-null    int64  \n",
      " 6   sex                334 non-null    object \n",
      "dtypes: float64(2), int64(2), object(3)\n",
      "memory usage: 18.4+ KB\n"
     ]
    }
   ],
   "source": [
    "penguin.info()"
   ]
  },
  {
   "cell_type": "code",
   "execution_count": 7,
   "metadata": {},
   "outputs": [
    {
     "name": "stdout",
     "output_type": "stream",
     "text": [
      "(334, 7)\n",
      "(333, 7)\n"
     ]
    }
   ],
   "source": [
    "print(penguin.shape)\n",
    "penguin= penguin.loc[penguin.sex != '.', :]\n",
    "print(penguin.shape)"
   ]
  },
  {
   "cell_type": "code",
   "execution_count": 8,
   "metadata": {
    "scrolled": true
   },
   "outputs": [
    {
     "data": {
      "text/plain": [
       "species              0\n",
       "island               0\n",
       "culmen_length_mm     0\n",
       "culmen_depth_mm      0\n",
       "flipper_length_mm    0\n",
       "body_mass_g          0\n",
       "sex                  0\n",
       "dtype: int64"
      ]
     },
     "execution_count": 8,
     "metadata": {},
     "output_type": "execute_result"
    }
   ],
   "source": [
    "penguin.isna().sum() # i removed Nas before loading "
   ]
  },
  {
   "cell_type": "markdown",
   "metadata": {},
   "source": [
    "### Train / Test Split"
   ]
  },
  {
   "cell_type": "code",
   "execution_count": 9,
   "metadata": {},
   "outputs": [],
   "source": [
    "penguin['is_train'] = np.random.uniform(0, 1, len(penguin)) <= .75\n",
    "train = penguin[penguin['is_train'] == True]\n",
    "test = penguin[penguin['is_train'] == False]\n",
    "\n",
    "train_x = train[train.columns[:len(train.columns) - 1]] # training samples\n",
    "train_x = train_x.drop('species', axis=1) # label drop\n",
    "train_y = train['species'] # corresponding labels\n",
    "\n",
    "\n",
    "test_x = test[test.columns[:len(test.columns) - 1]]\n",
    "test_x = test_x.drop('species', axis=1) # label drop\n",
    "test_y = test['species']"
   ]
  },
  {
   "cell_type": "code",
   "execution_count": 10,
   "metadata": {
    "scrolled": true
   },
   "outputs": [
    {
     "name": "stdout",
     "output_type": "stream",
     "text": [
      "(247, 9)\n"
     ]
    },
    {
     "data": {
      "text/html": [
       "<div>\n",
       "<style scoped>\n",
       "    .dataframe tbody tr th:only-of-type {\n",
       "        vertical-align: middle;\n",
       "    }\n",
       "\n",
       "    .dataframe tbody tr th {\n",
       "        vertical-align: top;\n",
       "    }\n",
       "\n",
       "    .dataframe thead th {\n",
       "        text-align: right;\n",
       "    }\n",
       "</style>\n",
       "<table border=\"1\" class=\"dataframe\">\n",
       "  <thead>\n",
       "    <tr style=\"text-align: right;\">\n",
       "      <th></th>\n",
       "      <th>culmen_length_mm</th>\n",
       "      <th>culmen_depth_mm</th>\n",
       "      <th>flipper_length_mm</th>\n",
       "      <th>body_mass_g</th>\n",
       "      <th>island_Biscoe</th>\n",
       "      <th>island_Dream</th>\n",
       "      <th>island_Torgersen</th>\n",
       "      <th>sex_FEMALE</th>\n",
       "      <th>sex_MALE</th>\n",
       "    </tr>\n",
       "  </thead>\n",
       "  <tbody>\n",
       "    <tr>\n",
       "      <th>1</th>\n",
       "      <td>39.5</td>\n",
       "      <td>17.4</td>\n",
       "      <td>186</td>\n",
       "      <td>3800</td>\n",
       "      <td>0</td>\n",
       "      <td>0</td>\n",
       "      <td>1</td>\n",
       "      <td>1</td>\n",
       "      <td>0</td>\n",
       "    </tr>\n",
       "    <tr>\n",
       "      <th>2</th>\n",
       "      <td>40.3</td>\n",
       "      <td>18.0</td>\n",
       "      <td>195</td>\n",
       "      <td>3250</td>\n",
       "      <td>0</td>\n",
       "      <td>0</td>\n",
       "      <td>1</td>\n",
       "      <td>1</td>\n",
       "      <td>0</td>\n",
       "    </tr>\n",
       "    <tr>\n",
       "      <th>3</th>\n",
       "      <td>36.7</td>\n",
       "      <td>19.3</td>\n",
       "      <td>193</td>\n",
       "      <td>3450</td>\n",
       "      <td>0</td>\n",
       "      <td>0</td>\n",
       "      <td>1</td>\n",
       "      <td>1</td>\n",
       "      <td>0</td>\n",
       "    </tr>\n",
       "    <tr>\n",
       "      <th>5</th>\n",
       "      <td>38.9</td>\n",
       "      <td>17.8</td>\n",
       "      <td>181</td>\n",
       "      <td>3625</td>\n",
       "      <td>0</td>\n",
       "      <td>0</td>\n",
       "      <td>1</td>\n",
       "      <td>1</td>\n",
       "      <td>0</td>\n",
       "    </tr>\n",
       "    <tr>\n",
       "      <th>6</th>\n",
       "      <td>39.2</td>\n",
       "      <td>19.6</td>\n",
       "      <td>195</td>\n",
       "      <td>4675</td>\n",
       "      <td>0</td>\n",
       "      <td>0</td>\n",
       "      <td>1</td>\n",
       "      <td>0</td>\n",
       "      <td>1</td>\n",
       "    </tr>\n",
       "  </tbody>\n",
       "</table>\n",
       "</div>"
      ],
      "text/plain": [
       "   culmen_length_mm  culmen_depth_mm  flipper_length_mm  body_mass_g  \\\n",
       "1              39.5             17.4                186         3800   \n",
       "2              40.3             18.0                195         3250   \n",
       "3              36.7             19.3                193         3450   \n",
       "5              38.9             17.8                181         3625   \n",
       "6              39.2             19.6                195         4675   \n",
       "\n",
       "   island_Biscoe  island_Dream  island_Torgersen  sex_FEMALE  sex_MALE  \n",
       "1              0             0                 1           1         0  \n",
       "2              0             0                 1           1         0  \n",
       "3              0             0                 1           1         0  \n",
       "5              0             0                 1           1         0  \n",
       "6              0             0                 1           0         1  "
      ]
     },
     "execution_count": 10,
     "metadata": {},
     "output_type": "execute_result"
    }
   ],
   "source": [
    "train_x = pd.get_dummies(train_x)\n",
    "test_x = pd.get_dummies(test_x);\n",
    "print(train_x.shape)\n",
    "train_x.head()"
   ]
  },
  {
   "cell_type": "code",
   "execution_count": 16,
   "metadata": {},
   "outputs": [
    {
     "name": "stdout",
     "output_type": "stream",
     "text": [
      "Adelie\n",
      "Adelie\n"
     ]
    }
   ],
   "source": [
    "model = knn(train_x, train_y, euclidean_distance, test_x.iloc[13], k=5)\n",
    "print(model)\n",
    "print(test_y.iloc[13])"
   ]
  },
  {
   "cell_type": "code",
   "execution_count": 12,
   "metadata": {},
   "outputs": [],
   "source": [
    "# Calculate the accuracy\n",
    "def get_accuracy(test_x, test_y, train_x, train_y, k):\n",
    "    correct = 0\n",
    "    for i in range(len(test_x)):\n",
    "        sample = test_x.iloc[i]\n",
    "        true_label = test_y.iloc[i]\n",
    "        predicted_label_euclidean = knn(train_x, train_y, euclidean_distance, sample, k)\n",
    "        if predicted_label_euclidean == true_label:\n",
    "            correct += 1\n",
    "    \n",
    "    accuracy_euclidean = (correct / len(test_x)) * 100\n",
    "    \n",
    "    print(\"Model accuracy with Euclidean Distance is %.2f\" %(accuracy_euclidean), \"%\")\n"
   ]
  },
  {
   "cell_type": "code",
   "execution_count": 13,
   "metadata": {},
   "outputs": [
    {
     "name": "stdout",
     "output_type": "stream",
     "text": [
      "Model accuracy with Euclidean Distance is 72.09 %\n"
     ]
    }
   ],
   "source": [
    "get_accuracy(test_x, test_y, train_x, train_y, k=5)"
   ]
  },
  {
   "cell_type": "markdown",
   "metadata": {},
   "source": [
    "# Conclusion"
   ]
  },
  {
   "cell_type": "markdown",
   "metadata": {},
   "source": [
    "The accuracy of the knn model shows that we are only 72.09% correct.It's not bad but also not great. We know that the KNN algorithm is sensitive to high dimension feature vectors and high volume of data , so perhaps I could have gotten better results with fewer features or a better distance function other than euclidean."
   ]
  },
  {
   "cell_type": "markdown",
   "metadata": {},
   "source": [
    "# References\n",
    "\n",
    "Géron, Aurélien. *Hands-On Machine Learning with Scikit-Learn, Keras, and TensorFlow: Concepts, Tools, and Techniques to Build Intelligent Systems*. 2nd ed., O’Reilly Media, 2019.\n",
    "\n",
    "Penguin Data originally published in:\n",
    "\n",
    "Gorman KB, Williams TD, Fraser WR (2014). Ecological sexual dimorphism and environmental variability within a community of Antarctic penguins (genus Pygoscelis). PLoS ONE 9(3):e90081. https://doi.org/10.1371/journal.pone.0090081"
   ]
  },
  {
   "cell_type": "code",
   "execution_count": null,
   "metadata": {},
   "outputs": [],
   "source": []
  }
 ],
 "metadata": {
  "kernelspec": {
   "display_name": "Python 3",
   "language": "python",
   "name": "python3"
  },
  "language_info": {
   "codemirror_mode": {
    "name": "ipython",
    "version": 3
   },
   "file_extension": ".py",
   "mimetype": "text/x-python",
   "name": "python",
   "nbconvert_exporter": "python",
   "pygments_lexer": "ipython3",
   "version": "3.7.1"
  }
 },
 "nbformat": 4,
 "nbformat_minor": 4
}
