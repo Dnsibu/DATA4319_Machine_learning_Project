{
 "cells": [
  {
   "cell_type": "markdown",
   "metadata": {},
   "source": [
    "# The K-Nearest Neighbors Algorithm with Julia\n",
    "## Daisy Nsibu\n",
    "\n",
    "k-Nearest neighbors is one of the simplest supervised machine learning algortithm there is. This algorithm can be used to solve classification, regression, and search (reccomendations) problems. It makes no mathematical assumptions, and it doesn’t require any sort of heavy machinery. \n",
    "\n",
    "The only things it requires are:\n",
    "\n",
    "•\tSome notion of distance\n",
    "\n",
    "•\tAn assumption that points that are close to one another are similar\n",
    "\n",
    "Pros:\n",
    "+  Can be used for classification, regression, and search problems\n",
    "+  Simple and easy to implement\n",
    "+  No optimization of parameters\n",
    "    \n",
    "Cons:\n",
    "+  Slow\n",
    "+  Sensitive to high dimension feature vectors and high volume of data\n"
   ]
  },
  {
   "cell_type": "markdown",
   "metadata": {},
   "source": [
    "# KNN in Practice\n",
    "\n",
    "![](https://encrypted-tbn0.gstatic.com/images?q=tbn:ANd9GcR6_nOORLYqVlmjaWOMOAg1_JdIvFZlVSb99w&usqp=CAU)\n",
    "\n",
    "\n",
    "\n",
    "This is a simple example showing how useful k-nearest neighbors can be. In the following example, the data are for real IMDB rated movies and this machine learning algorithm can make a reccomendation as to what movies are similar to the queried movie. \n",
    "\n",
    "Given our movies data set let us find the 6 most similar movies to any given movie!"
   ]
  },
  {
   "cell_type": "markdown",
   "metadata": {},
   "source": [
    "## Data Set Information:\n",
    "\n",
    "We are going to use the  [movies_recommendation data](https://github.com/Dnsibu/NsibuD_DATA_4319/blob/main/Supervised%20Learning/02-KNN/movies_recommendation_data.csv)\n",
    "\n",
    "The dataset contains 30 rows and 11 columns. \n",
    "\n",
    "The data contains the following columns:\n",
    "\n",
    "+ **MovieID**: The ID for the movie\n",
    "\n",
    "+ **MovieName**: The name of the movie\n",
    "\n",
    "+ **IMDBRating**: The IMDB rating of the movie\n",
    "\n",
    "+ **Biography**: Labeled 1: if Biography genre , 0: if not\n",
    "\n",
    "+ **Drama**: Labeled 1: if Drama genre,  0: if not\n",
    "\n",
    "+ **Thriller**: Labeled 1: if Thriller genre,  0: if not"
   ]
  },
  {
   "cell_type": "markdown",
   "metadata": {},
   "source": [
    "## Import Packages"
   ]
  },
  {
   "cell_type": "code",
   "execution_count": 1,
   "metadata": {},
   "outputs": [
    {
     "name": "stderr",
     "output_type": "stream",
     "text": [
      "┌ Info: Precompiling RDatasets [ce6b1742-4840-55fa-b093-852dadbb1d8b]\n",
      "└ @ Base loading.jl:1278\n"
     ]
    }
   ],
   "source": [
    "using Pkg\n",
    "using RDatasets\n",
    "using Plots\n",
    "using CSV"
   ]
  },
  {
   "cell_type": "markdown",
   "metadata": {},
   "source": [
    "## Read Dataset"
   ]
  },
  {
   "cell_type": "code",
   "execution_count": 2,
   "metadata": {},
   "outputs": [
    {
     "data": {
      "text/html": [
       "<table class=\"data-frame\"><thead><tr><th></th><th>MovieID</th><th>MovieName</th><th>IMDBRating</th><th>Biography</th><th>Drama</th><th>Thriller</th></tr><tr><th></th><th>Int64</th><th>String</th><th>Float64</th><th>Int64</th><th>Int64</th><th>Int64</th></tr></thead><tbody><p>30 rows × 11 columns (omitted printing of 5 columns)</p><tr><th>1</th><td>58</td><td>The Imitation Game</td><td>8.0</td><td>1</td><td>1</td><td>1</td></tr><tr><th>2</th><td>8</td><td>Ex Machina</td><td>7.7</td><td>0</td><td>1</td><td>0</td></tr><tr><th>3</th><td>46</td><td>A Beautiful Mind</td><td>8.2</td><td>1</td><td>1</td><td>0</td></tr><tr><th>4</th><td>62</td><td>Good Will Hunting</td><td>8.3</td><td>0</td><td>1</td><td>0</td></tr><tr><th>5</th><td>97</td><td>Forrest Gump</td><td>8.8</td><td>0</td><td>1</td><td>0</td></tr><tr><th>6</th><td>98</td><td>21</td><td>6.8</td><td>0</td><td>1</td><td>0</td></tr><tr><th>7</th><td>31</td><td>Gifted</td><td>7.6</td><td>0</td><td>1</td><td>0</td></tr><tr><th>8</th><td>3</td><td>Travelling Salesman</td><td>5.9</td><td>0</td><td>1</td><td>0</td></tr><tr><th>9</th><td>51</td><td>Avatar</td><td>7.9</td><td>0</td><td>0</td><td>0</td></tr><tr><th>10</th><td>47</td><td>The Karate Kid</td><td>7.2</td><td>0</td><td>1</td><td>0</td></tr><tr><th>11</th><td>50</td><td>A Brilliant Young Mind</td><td>7.2</td><td>0</td><td>1</td><td>0</td></tr><tr><th>12</th><td>49</td><td>A Time To Kill</td><td>7.4</td><td>0</td><td>1</td><td>1</td></tr><tr><th>13</th><td>30</td><td>Interstellar</td><td>8.6</td><td>0</td><td>1</td><td>0</td></tr><tr><th>14</th><td>94</td><td>The Wolf of Wall Street</td><td>8.2</td><td>1</td><td>0</td><td>0</td></tr><tr><th>15</th><td>6</td><td>Black Panther</td><td>7.4</td><td>0</td><td>0</td><td>0</td></tr><tr><th>16</th><td>73</td><td>Inception</td><td>8.8</td><td>0</td><td>0</td><td>0</td></tr><tr><th>17</th><td>44</td><td>The Wind Rises</td><td>7.8</td><td>1</td><td>1</td><td>0</td></tr><tr><th>18</th><td>65</td><td>Spirited Away</td><td>8.6</td><td>0</td><td>0</td><td>0</td></tr><tr><th>19</th><td>48</td><td>Finding Forrester</td><td>7.3</td><td>0</td><td>1</td><td>0</td></tr><tr><th>20</th><td>27</td><td>The Fountain</td><td>7.3</td><td>0</td><td>0</td><td>0</td></tr><tr><th>21</th><td>57</td><td>The DaVinci Code</td><td>6.6</td><td>0</td><td>0</td><td>1</td></tr><tr><th>22</th><td>57</td><td>Stand and Deliver</td><td>7.3</td><td>0</td><td>1</td><td>0</td></tr><tr><th>23</th><td>14</td><td>The Terminator</td><td>8.0</td><td>0</td><td>0</td><td>0</td></tr><tr><th>24</th><td>69</td><td>21 Jump Street</td><td>7.2</td><td>0</td><td>0</td><td>0</td></tr><tr><th>25</th><td>98</td><td>The Avengers</td><td>8.1</td><td>0</td><td>0</td><td>0</td></tr><tr><th>26</th><td>17</td><td>Thor: Ragnarok</td><td>7.9</td><td>0</td><td>0</td><td>0</td></tr><tr><th>27</th><td>12</td><td>Spirit: Stallion of the Cimarron</td><td>7.1</td><td>0</td><td>0</td><td>0</td></tr><tr><th>28</th><td>1</td><td>Hacksaw Ridge</td><td>8.2</td><td>1</td><td>1</td><td>0</td></tr><tr><th>29</th><td>86</td><td>12 Years a Slave</td><td>8.1</td><td>1</td><td>1</td><td>0</td></tr><tr><th>30</th><td>46</td><td>Queen of Katwe</td><td>7.4</td><td>1</td><td>1</td><td>0</td></tr></tbody></table>"
      ],
      "text/latex": [
       "\\begin{tabular}{r|ccccccc}\n",
       "\t& MovieID & MovieName & IMDBRating & Biography & Drama & Thriller & \\\\\n",
       "\t\\hline\n",
       "\t& Int64 & String & Float64 & Int64 & Int64 & Int64 & \\\\\n",
       "\t\\hline\n",
       "\t1 & 58 & The Imitation Game & 8.0 & 1 & 1 & 1 & $\\dots$ \\\\\n",
       "\t2 & 8 & Ex Machina & 7.7 & 0 & 1 & 0 & $\\dots$ \\\\\n",
       "\t3 & 46 & A Beautiful Mind & 8.2 & 1 & 1 & 0 & $\\dots$ \\\\\n",
       "\t4 & 62 & Good Will Hunting & 8.3 & 0 & 1 & 0 & $\\dots$ \\\\\n",
       "\t5 & 97 & Forrest Gump & 8.8 & 0 & 1 & 0 & $\\dots$ \\\\\n",
       "\t6 & 98 & 21 & 6.8 & 0 & 1 & 0 & $\\dots$ \\\\\n",
       "\t7 & 31 & Gifted & 7.6 & 0 & 1 & 0 & $\\dots$ \\\\\n",
       "\t8 & 3 & Travelling Salesman & 5.9 & 0 & 1 & 0 & $\\dots$ \\\\\n",
       "\t9 & 51 & Avatar & 7.9 & 0 & 0 & 0 & $\\dots$ \\\\\n",
       "\t10 & 47 & The Karate Kid & 7.2 & 0 & 1 & 0 & $\\dots$ \\\\\n",
       "\t11 & 50 & A Brilliant Young Mind & 7.2 & 0 & 1 & 0 & $\\dots$ \\\\\n",
       "\t12 & 49 & A Time To Kill & 7.4 & 0 & 1 & 1 & $\\dots$ \\\\\n",
       "\t13 & 30 & Interstellar & 8.6 & 0 & 1 & 0 & $\\dots$ \\\\\n",
       "\t14 & 94 & The Wolf of Wall Street & 8.2 & 1 & 0 & 0 & $\\dots$ \\\\\n",
       "\t15 & 6 & Black Panther & 7.4 & 0 & 0 & 0 & $\\dots$ \\\\\n",
       "\t16 & 73 & Inception & 8.8 & 0 & 0 & 0 & $\\dots$ \\\\\n",
       "\t17 & 44 & The Wind Rises & 7.8 & 1 & 1 & 0 & $\\dots$ \\\\\n",
       "\t18 & 65 & Spirited Away & 8.6 & 0 & 0 & 0 & $\\dots$ \\\\\n",
       "\t19 & 48 & Finding Forrester & 7.3 & 0 & 1 & 0 & $\\dots$ \\\\\n",
       "\t20 & 27 & The Fountain & 7.3 & 0 & 0 & 0 & $\\dots$ \\\\\n",
       "\t21 & 57 & The DaVinci Code & 6.6 & 0 & 0 & 1 & $\\dots$ \\\\\n",
       "\t22 & 57 & Stand and Deliver & 7.3 & 0 & 1 & 0 & $\\dots$ \\\\\n",
       "\t23 & 14 & The Terminator & 8.0 & 0 & 0 & 0 & $\\dots$ \\\\\n",
       "\t24 & 69 & 21 Jump Street & 7.2 & 0 & 0 & 0 & $\\dots$ \\\\\n",
       "\t25 & 98 & The Avengers & 8.1 & 0 & 0 & 0 & $\\dots$ \\\\\n",
       "\t26 & 17 & Thor: Ragnarok & 7.9 & 0 & 0 & 0 & $\\dots$ \\\\\n",
       "\t27 & 12 & Spirit: Stallion of the Cimarron & 7.1 & 0 & 0 & 0 & $\\dots$ \\\\\n",
       "\t28 & 1 & Hacksaw Ridge & 8.2 & 1 & 1 & 0 & $\\dots$ \\\\\n",
       "\t29 & 86 & 12 Years a Slave & 8.1 & 1 & 1 & 0 & $\\dots$ \\\\\n",
       "\t30 & 46 & Queen of Katwe & 7.4 & 1 & 1 & 0 & $\\dots$ \\\\\n",
       "\\end{tabular}\n"
      ],
      "text/plain": [
       "\u001b[1m30×11 DataFrame\u001b[0m\n",
       "\u001b[1m Row \u001b[0m│\u001b[1m MovieID \u001b[0m\u001b[1m MovieName                        \u001b[0m\u001b[1m IMDBRating \u001b[0m\u001b[1m Biography \u001b[0m\u001b[1m Drama\u001b[0m ⋯\n",
       "\u001b[1m     \u001b[0m│\u001b[90m Int64   \u001b[0m\u001b[90m String                           \u001b[0m\u001b[90m Float64    \u001b[0m\u001b[90m Int64     \u001b[0m\u001b[90m Int64\u001b[0m ⋯\n",
       "─────┼──────────────────────────────────────────────────────────────────────────\n",
       "   1 │      58  The Imitation Game                       8.0          1      1 ⋯\n",
       "   2 │       8  Ex Machina                               7.7          0      1\n",
       "   3 │      46  A Beautiful Mind                         8.2          1      1\n",
       "   4 │      62  Good Will Hunting                        8.3          0      1\n",
       "   5 │      97  Forrest Gump                             8.8          0      1 ⋯\n",
       "   6 │      98  21                                       6.8          0      1\n",
       "   7 │      31  Gifted                                   7.6          0      1\n",
       "   8 │       3  Travelling Salesman                      5.9          0      1\n",
       "   9 │      51  Avatar                                   7.9          0      0 ⋯\n",
       "  10 │      47  The Karate Kid                           7.2          0      1\n",
       "  11 │      50  A Brilliant Young Mind                   7.2          0      1\n",
       "  ⋮  │    ⋮                    ⋮                      ⋮           ⋮        ⋮   ⋱\n",
       "  21 │      57  The DaVinci Code                         6.6          0      0\n",
       "  22 │      57  Stand and Deliver                        7.3          0      1 ⋯\n",
       "  23 │      14  The Terminator                           8.0          0      0\n",
       "  24 │      69  21 Jump Street                           7.2          0      0\n",
       "  25 │      98  The Avengers                             8.1          0      0\n",
       "  26 │      17  Thor: Ragnarok                           7.9          0      0 ⋯\n",
       "  27 │      12  Spirit: Stallion of the Cimarron         7.1          0      0\n",
       "  28 │       1  Hacksaw Ridge                            8.2          1      1\n",
       "  29 │      86  12 Years a Slave                         8.1          1      1\n",
       "  30 │      46  Queen of Katwe                           7.4          1      1 ⋯\n",
       "\u001b[36m                                                    6 columns and 9 rows omitted\u001b[0m"
      ]
     },
     "execution_count": 2,
     "metadata": {},
     "output_type": "execute_result"
    }
   ],
   "source": [
    "movies = CSV.read(\"movies_recommendation_data.csv\", DataFrame)"
   ]
  },
  {
   "cell_type": "markdown",
   "metadata": {},
   "source": [
    "## X and Y Arrays"
   ]
  },
  {
   "cell_type": "code",
   "execution_count": 3,
   "metadata": {},
   "outputs": [
    {
     "data": {
      "text/plain": [
       "30-element Array{String,1}:\n",
       " \"The Imitation Game\"\n",
       " \"Ex Machina\"\n",
       " \"A Beautiful Mind\"\n",
       " \"Good Will Hunting\"\n",
       " \"Forrest Gump\"\n",
       " \"21\"\n",
       " \"Gifted\"\n",
       " \"Travelling Salesman\"\n",
       " \"Avatar\"\n",
       " \"The Karate Kid\"\n",
       " \"A Brilliant Young Mind\"\n",
       " \"A Time To Kill\"\n",
       " \"Interstellar\"\n",
       " ⋮\n",
       " \"Finding Forrester\"\n",
       " \"The Fountain\"\n",
       " \"The DaVinci Code\"\n",
       " \"Stand and Deliver\"\n",
       " \"The Terminator\"\n",
       " \"21 Jump Street\"\n",
       " \"The Avengers\"\n",
       " \"Thor: Ragnarok\"\n",
       " \"Spirit: Stallion of the Cimarron\"\n",
       " \"Hacksaw Ridge\"\n",
       " \"12 Years a Slave\"\n",
       " \"Queen of Katwe\""
      ]
     },
     "execution_count": 3,
     "metadata": {},
     "output_type": "execute_result"
    }
   ],
   "source": [
    "x_movie_data = [x for x in zip(movies.IMDBRating, movies.Biography, movies.Drama, movies.Thriller)]\n",
    "y_movie_data = [x for x in movies.MovieName]"
   ]
  },
  {
   "cell_type": "markdown",
   "metadata": {},
   "source": [
    "## Distance Function: Euclidean distance\n",
    "![Euclidean distance](https://i.stack.imgur.com/RtnTY.jpg)"
   ]
  },
  {
   "cell_type": "code",
   "execution_count": 4,
   "metadata": {},
   "outputs": [
    {
     "data": {
      "text/plain": [
       "distance (generic function with 1 method)"
      ]
     },
     "execution_count": 4,
     "metadata": {},
     "output_type": "execute_result"
    }
   ],
   "source": [
    "function distance(p1,p2)\n",
    "    return sqrt(sum((p1[i] - p2[i])^2 for i = 1:length(p1)))\n",
    "end"
   ]
  },
  {
   "cell_type": "code",
   "execution_count": 5,
   "metadata": {},
   "outputs": [
    {
     "data": {
      "text/plain": [
       "KNN (generic function with 1 method)"
      ]
     },
     "execution_count": 5,
     "metadata": {},
     "output_type": "execute_result"
    }
   ],
   "source": [
    "function KNN(p, features, labels, k)\n",
    "    distance_array = [(distance(p, features[i]), labels[i]) for i = 1:length(features)]\n",
    "    sort!(distance_array, by = x -> x[1])\n",
    "    return  distance_array[1:k]\n",
    "end"
   ]
  },
  {
   "cell_type": "code",
   "execution_count": 10,
   "metadata": {},
   "outputs": [
    {
     "data": {
      "text/plain": [
       "more_like_this (generic function with 1 method)"
      ]
     },
     "execution_count": 10,
     "metadata": {},
     "output_type": "execute_result"
    }
   ],
   "source": [
    "function more_like_this(movie_name, features, labels, k)\n",
    "    for i = 1:length(labels)\n",
    "        if labels[i] == movie_name\n",
    "            neighbors = KNN(features[i], features, labels, k+1)\n",
    "            println(\"The top $k movies similar to, $movie_name are:\")\n",
    "            for j = 2:k+1\n",
    "                println(\"$(j-1). \", neighbors[j][2] )\n",
    "            end\n",
    "        end\n",
    "    end\n",
    "end"
   ]
  },
  {
   "cell_type": "code",
   "execution_count": 11,
   "metadata": {},
   "outputs": [
    {
     "name": "stdout",
     "output_type": "stream",
     "text": [
      "The top 6 movies similar to, The Terminator are:\n",
      "1. Avatar\n",
      "2. The Avengers\n",
      "3. Thor: Ragnarok\n",
      "4. Black Panther\n",
      "5. Spirited Away\n",
      "6. The Fountain\n"
     ]
    }
   ],
   "source": [
    "more_like_this(\"The Terminator\", x_movie_data, y_movie_data, 6)"
   ]
  }
 ],
 "metadata": {
  "kernelspec": {
   "display_name": "Julia 1.5.3",
   "language": "julia",
   "name": "julia-1.5"
  },
  "language_info": {
   "file_extension": ".jl",
   "mimetype": "application/julia",
   "name": "julia",
   "version": "1.5.3"
  }
 },
 "nbformat": 4,
 "nbformat_minor": 4
}
