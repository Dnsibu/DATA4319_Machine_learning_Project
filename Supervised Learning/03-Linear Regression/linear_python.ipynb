{
 "cells": [
  {
   "cell_type": "markdown",
   "metadata": {},
   "source": [
    "# Algorithm: Linear Regression\n",
    "## Language: Python\n",
    "## Author: Daisy Nsibu"
   ]
  },
  {
   "cell_type": "markdown",
   "metadata": {},
   "source": [
    "# Introduction"
   ]
  },
  {
   "cell_type": "markdown",
   "metadata": {},
   "source": [
    "### What is Linear Regression?\n",
    "\n",
    "Linear regression is a supervised learning algorithm that is applied to real valued target functions in order to predict a range of possible outputs for a given input.\n",
    "\n",
    "Note: I'd like to point out that this is a predictive or regression algorithm so this is not classification problem. This is giving us a range of possibilites for a given input."
   ]
  },
  {
   "cell_type": "markdown",
   "metadata": {},
   "source": [
    "### What are the Assumptions?\n",
    "\n",
    "Assume the targets are close to some linear combination of the features of measurements of the input data. So we need to assume that the labels of our input data lie in some linear combination or close to some linear combination of the input.\n",
    "\n",
    "Unlike other machine learning algorithms linear regression has a closed form solution. In other words, there is an equation that solves linear regression. Now there's also a way to solve this using optimization techniques such as stochastic descent or [gradient descent](https://en.wikipedia.org/wiki/Gradient_descent#:~:text=Gradient%20descent%20is%20a%20first,the%20direction%20of%20steepest%20descent.).\n",
    "\n",
    "Linear Regression is one of the simplest algorithms in machine learning and it can be trained in different ways. However in this notebook I'll be using the closed form of linear regression.\n",
    "\n",
    "In general linear regression is used to show relationships with dependencies between feature measures and their label."
   ]
  },
  {
   "cell_type": "markdown",
   "metadata": {},
   "source": [
    "### Some possible applications of linear regression Examples:\n",
    "\n",
    "Use Linear Regression to relate the force for extending a spring to the distance the spring stretches to. We can use Linear Regression and model the relationship here and derive [Hooke's law.](https://en.wikipedia.org/wiki/Hooke%27s_law)\n",
    "Use Linear Regression to relate the salary of a developer to their age and experience.\n"
   ]
  },
  {
   "cell_type": "markdown",
   "metadata": {},
   "source": [
    "### How does it work?\n",
    "Suppose we have 3 data points on a graph where x is our feature and y is. our label.\n",
    "\n",
    "Suppose we have 3 data points on a graph where x is our feature and y is. our label.\n",
    "\n",
    "$(x^{1}, y^{1})\n",
    "(x^{2}, y^{2})\n",
    "(x^{3}, y^{3})$\n",
    "\n",
    "For example x can be age can be a feature  and our label y could be salary(USD). Now suppose we want to know the possible salary for $x^{*}$ and we dont know the label but we want a possible salary for someone who is that age.\n",
    "\n",
    "What we do with linear regression is seek a line that bests fits this data. what we want is a line that somehow approximates those points. So How can we find this line?\n",
    "\n",
    "### We want\n",
    "What we want is to solve a system of equations. So for example, we want $y^{1} = w_ix^{1} + w_2$. We also want to hit the other point with the line, $y^{2} = w_ix^{2} + w_2$, and we also want to hit $y^{3} = w_ix^{3} + w_2$ with the line. But there is no line that will fit all those pooints. So in regression the best we can possibly do is approx those points.\n",
    "$$y^{1} \\approxeq w_ix^{1} + w_2$$\n",
    "$$y^{2} \\approxeq w_ix^{2} + w_2$$\n",
    "$$y^{3} \\approxeq w_ix^{3} + w_2$$\n",
    "\n",
    "\n",
    "But let's ignore the approximation part of this for now.\n",
    "What does this system look like? Well it looks like this:\n",
    "\n",
    "$$\\begin{bmatrix}\n",
    "            x^{1}  1\\\\\n",
    "            x^{2}  1\\\\\n",
    "            x^{3}  1\n",
    "           \\end{bmatrix}\\begin{bmatrix}\n",
    "            w_{1} \\\\\n",
    "            w_{2}\n",
    "           \\end{bmatrix} = \\begin{bmatrix}\n",
    "            y^{1} \\\\\n",
    "            y^{2} \\\\\n",
    "            y^{3}\n",
    "           \\end{bmatrix}$$\n",
    "\n",
    "To solve this problem, we need to solve this system of equations. So we can denote this matrix as $$\\begin{bmatrix}\n",
    "            x^{1}  1\\\\\n",
    "            x^{2}  1\\\\\n",
    "            x^{3}  1\n",
    "           \\end{bmatrix} \\Rightarrow  X$$ and we can denote this vector as \n",
    "$$\\begin{bmatrix}\n",
    "            w_{1} \\\\\n",
    "            w_{2}\n",
    "           \\end{bmatrix}\\Rightarrow  w$$ and then this vector by $$\\begin{bmatrix}\n",
    "            y^{1} \\\\\n",
    "            y^{2} \\\\\n",
    "            y^{3}\n",
    "           \\end{bmatrix}\\Rightarrow  y$$\n",
    " so what we're wishing to solve is $Xw = y$\n",
    " \n",
    " $X$ is likely non-invertible so the best we can do is solve for an approximation.Say $\\hat{w}$ with $X\\hat{w}\\approx y$. That's the best we can do. So how do we find this?\n",
    " \n",
    " Well starting from this this equation, we want $Xw = y$ and we know that $X$ is more than likely not invertible. But we can play with this, and multiply both sides by $X^{T}$\n",
    "  $$X^{T}X\\hat{w}=X^{T}y$$ so lets call this solution to this system $\\hat{w}$\n",
    "  \n",
    "Now $X^{T}X$ is going to be invertible. So what we have now is that, $$X^{T}X\\hat{w} = X^{T}y \\Rightarrow \\hat{w} = (X^{T}X)^{-1}X^{T}y$$ this here is the **closed-form solution** to linear regression. \n",
    "\n",
    "*Note: $(X^{T}X)^{-1}$ is called the pseudo inverse of X*\n",
    "\n",
    "So now thaat we solve this system of equations, we're going to say that if we want to know what the approximate label for this $x^{*}$ is , then we'll say that $y \\approx \\hat{w_1}x^{*} + \\hat{w_2}$ once we solve for $\\hat{w}$ . This is called a prediction. This prediction for a given input will give us an approximate output provided the data  closely lies to some linear approximation.\n",
    "  \n",
    "\n"
   ]
  },
  {
   "cell_type": "markdown",
   "metadata": {},
   "source": [
    "##  Loading the data"
   ]
  },
  {
   "cell_type": "markdown",
   "metadata": {},
   "source": [
    "This is a simple example using regression.\n",
    "\n",
    "This example shows how useful regression can be . In the following example,  the data are delivery time observations for cases of food from unique distances "
   ]
  },
  {
   "cell_type": "markdown",
   "metadata": {},
   "source": [
    "## Import Libraries"
   ]
  },
  {
   "cell_type": "code",
   "execution_count": 2,
   "metadata": {},
   "outputs": [],
   "source": [
    "import numpy as np\n",
    "import pandas as pd\n",
    "import matplotlib.pyplot as plt"
   ]
  },
  {
   "cell_type": "markdown",
   "metadata": {},
   "source": [
    "### Load the data"
   ]
  },
  {
   "cell_type": "code",
   "execution_count": 6,
   "metadata": {
    "scrolled": false
   },
   "outputs": [
    {
     "data": {
      "text/html": [
       "<div>\n",
       "<style scoped>\n",
       "    .dataframe tbody tr th:only-of-type {\n",
       "        vertical-align: middle;\n",
       "    }\n",
       "\n",
       "    .dataframe tbody tr th {\n",
       "        vertical-align: top;\n",
       "    }\n",
       "\n",
       "    .dataframe thead th {\n",
       "        text-align: right;\n",
       "    }\n",
       "</style>\n",
       "<table border=\"1\" class=\"dataframe\">\n",
       "  <thead>\n",
       "    <tr style=\"text-align: right;\">\n",
       "      <th></th>\n",
       "      <th>Observation</th>\n",
       "      <th>Delivery_Time</th>\n",
       "      <th>Number_Cases</th>\n",
       "      <th>Distance_ft</th>\n",
       "    </tr>\n",
       "  </thead>\n",
       "  <tbody>\n",
       "    <tr>\n",
       "      <th>0</th>\n",
       "      <td>1</td>\n",
       "      <td>16.68</td>\n",
       "      <td>7</td>\n",
       "      <td>560</td>\n",
       "    </tr>\n",
       "    <tr>\n",
       "      <th>1</th>\n",
       "      <td>2</td>\n",
       "      <td>11.50</td>\n",
       "      <td>3</td>\n",
       "      <td>220</td>\n",
       "    </tr>\n",
       "    <tr>\n",
       "      <th>2</th>\n",
       "      <td>3</td>\n",
       "      <td>12.03</td>\n",
       "      <td>3</td>\n",
       "      <td>340</td>\n",
       "    </tr>\n",
       "    <tr>\n",
       "      <th>3</th>\n",
       "      <td>4</td>\n",
       "      <td>14.88</td>\n",
       "      <td>4</td>\n",
       "      <td>80</td>\n",
       "    </tr>\n",
       "    <tr>\n",
       "      <th>4</th>\n",
       "      <td>5</td>\n",
       "      <td>13.75</td>\n",
       "      <td>6</td>\n",
       "      <td>150</td>\n",
       "    </tr>\n",
       "  </tbody>\n",
       "</table>\n",
       "</div>"
      ],
      "text/plain": [
       "   Observation  Delivery_Time  Number_Cases  Distance_ft\n",
       "0            1          16.68             7          560\n",
       "1            2          11.50             3          220\n",
       "2            3          12.03             3          340\n",
       "3            4          14.88             4           80\n",
       "4            5          13.75             6          150"
      ]
     },
     "execution_count": 6,
     "metadata": {},
     "output_type": "execute_result"
    }
   ],
   "source": [
    "# read data\n",
    "\n",
    "df= pd.read_csv(\"dt.csv\")\n",
    "df.head()"
   ]
  },
  {
   "cell_type": "code",
   "execution_count": 32,
   "metadata": {},
   "outputs": [],
   "source": [
    "Y= df[\"Delivery_Time\"]\n",
    "X= df[\"Distance_ft\"]\n"
   ]
  },
  {
   "cell_type": "code",
   "execution_count": null,
   "metadata": {},
   "outputs": [],
   "source": []
  },
  {
   "cell_type": "code",
   "execution_count": 33,
   "metadata": {},
   "outputs": [],
   "source": [
    "# predict Function\n",
    "def predict(m,b,X):\n",
    "    return m*X+b\n"
   ]
  },
  {
   "cell_type": "code",
   "execution_count": 34,
   "metadata": {},
   "outputs": [],
   "source": [
    "# error function\n",
    "def error(m,b,x,y):\n",
    "    return predict(m,b,x) - y\n"
   ]
  },
  {
   "cell_type": "code",
   "execution_count": 35,
   "metadata": {},
   "outputs": [],
   "source": [
    "def sum_square_error(m,b,X,Y):\n",
    "    errored=0\n",
    "    no_of_element = len(X)\n",
    "    for i in range(no_of_element):\n",
    "        errored+=error(m,b,x[i],y[i])\n",
    "    return errored**2\n"
   ]
  },
  {
   "cell_type": "code",
   "execution_count": 36,
   "metadata": {},
   "outputs": [],
   "source": [
    "#The Fit Method\n",
    "import numpy as np\n",
    "def least_square_mean_fit(X,Y):\n",
    "    x_mean = np.mean(X)\n",
    "    y_mean = np.mean(Y)\n",
    "  ## Total number of values\n",
    "    total_no_values=len(X)\n",
    "    corr=0\n",
    "    std=0\n",
    "    for i in range(total_no_values):\n",
    "        corr+=((X[i]-x_mean) * (Y[i]-y_mean))\n",
    "        std+=(X[i] - x_mean)**2\n",
    "    m=corr/std\n",
    "    b=y_mean - (m*x_mean)\n",
    "    return m,b"
   ]
  },
  {
   "cell_type": "code",
   "execution_count": 39,
   "metadata": {},
   "outputs": [],
   "source": [
    "m,b = least_square_mean_fit(X,Y)"
   ]
  },
  {
   "cell_type": "code",
   "execution_count": 40,
   "metadata": {
    "scrolled": true
   },
   "outputs": [
    {
     "name": "stdout",
     "output_type": "stream",
     "text": [
      "0.04256949066749951 , 4.961158859605803\n"
     ]
    }
   ],
   "source": [
    "print(m,\",\",b)"
   ]
  },
  {
   "cell_type": "code",
   "execution_count": 46,
   "metadata": {
    "scrolled": true
   },
   "outputs": [
    {
     "data": {
      "text/plain": [
       "34.75980232685546"
      ]
     },
     "execution_count": 46,
     "metadata": {},
     "output_type": "execute_result"
    }
   ],
   "source": [
    "predict(m,b,700)"
   ]
  },
  {
   "cell_type": "code",
   "execution_count": 47,
   "metadata": {},
   "outputs": [
    {
     "data": {
      "text/plain": [
       "0     12.120074\n",
       "1      2.826447\n",
       "2      7.404786\n",
       "3     -6.513282\n",
       "4     -2.403418\n",
       "5      0.899091\n",
       "6      1.643803\n",
       "7     -3.929248\n",
       "8    -12.127385\n",
       "9      9.215701\n",
       "10    -6.081032\n",
       "11    -6.886401\n",
       "12     2.316379\n",
       "13     4.878264\n",
       "14     0.032291\n",
       "15     8.995084\n",
       "16    -1.874943\n",
       "17    -8.419668\n",
       "18    -3.006339\n",
       "19     2.639667\n",
       "20    -6.979112\n",
       "21   -12.877554\n",
       "22     5.367430\n",
       "23    12.162785\n",
       "24     0.596582\n",
       "dtype: float64"
      ]
     },
     "execution_count": 47,
     "metadata": {},
     "output_type": "execute_result"
    }
   ],
   "source": [
    "error(m,b,X,Y)"
   ]
  },
  {
   "cell_type": "code",
   "execution_count": 45,
   "metadata": {
    "scrolled": false
   },
   "outputs": [
    {
     "data": {
      "image/png": "[encoded data removed]",
      "text/plain": [
       "<Figure size 432x288 with 1 Axes>"
      ]
     },
     "metadata": {
      "needs_background": "light"
     },
     "output_type": "display_data"
    }
   ],
   "source": [
    "x_max = np.max(X) \n",
    "x_min = np.min(X) \n",
    "\n",
    "x = np.linspace(x_min, x_max, 1000)\n",
    "y = b + m * x\n",
    "#plotting line \n",
    "plt.plot(x, y, color='black', label='Regression Line')\n",
    "#plot the data point\n",
    "plt.scatter(X, Y, color='red', label='Data Point')\n",
    "# x-axis label\n",
    "plt.xlabel('distance (ft)')\n",
    "#y-axis label\n",
    "plt.ylabel('delivery time')\n",
    "plt.legend()\n",
    "plt.show()"
   ]
  },
  {
   "cell_type": "code",
   "execution_count": 48,
   "metadata": {},
   "outputs": [],
   "source": [
    "Y= df[\"Delivery_Time\"]\n",
    "X= df[\"Number_Cases\"]"
   ]
  },
  {
   "cell_type": "code",
   "execution_count": 49,
   "metadata": {},
   "outputs": [],
   "source": [
    "m,b = least_square_mean_fit(X,Y)"
   ]
  },
  {
   "cell_type": "code",
   "execution_count": 50,
   "metadata": {
    "scrolled": true
   },
   "outputs": [
    {
     "name": "stdout",
     "output_type": "stream",
     "text": [
      "2.1761666783979723 , 3.3207798972337628\n"
     ]
    }
   ],
   "source": [
    "print(m,\",\",b)"
   ]
  },
  {
   "cell_type": "code",
   "execution_count": 51,
   "metadata": {
    "scrolled": true
   },
   "outputs": [
    {
     "data": {
      "text/plain": [
       "46.84411346519321"
      ]
     },
     "execution_count": 51,
     "metadata": {},
     "output_type": "execute_result"
    }
   ],
   "source": [
    "predict(m,b,20)"
   ]
  },
  {
   "cell_type": "code",
   "execution_count": 52,
   "metadata": {
    "scrolled": true
   },
   "outputs": [
    {
     "data": {
      "text/plain": [
       "0      1.873947\n",
       "1     -1.650720\n",
       "2     -2.180720\n",
       "3     -2.854553\n",
       "4      2.627780\n",
       "5      0.443947\n",
       "6     -0.326887\n",
       "7      0.723947\n",
       "8    -10.634220\n",
       "9     -7.298387\n",
       "10    -2.190553\n",
       "11     4.082447\n",
       "12    -1.474553\n",
       "13    -3.372220\n",
       "14    -1.093720\n",
       "15    -3.917553\n",
       "16     1.027780\n",
       "17    -0.446053\n",
       "18     0.349280\n",
       "19     5.215613\n",
       "20     7.182447\n",
       "21     7.581114\n",
       "22     4.156280\n",
       "23     0.900113\n",
       "24     1.275447\n",
       "dtype: float64"
      ]
     },
     "execution_count": 52,
     "metadata": {},
     "output_type": "execute_result"
    }
   ],
   "source": [
    "error(m,b,X,Y)"
   ]
  },
  {
   "cell_type": "code",
   "execution_count": 54,
   "metadata": {
    "scrolled": false
   },
   "outputs": [
    {
     "data": {
      "image/png": "[encoded data removed]",
      "text/plain": [
       "<Figure size 432x288 with 1 Axes>"
      ]
     },
     "metadata": {
      "needs_background": "light"
     },
     "output_type": "display_data"
    }
   ],
   "source": [
    "x_max = np.max(X) \n",
    "x_min = np.min(X) \n",
    "\n",
    "x = np.linspace(x_min, x_max, 1000)\n",
    "y = b + m * x\n",
    "#plotting line \n",
    "plt.plot(x, y, color='black', label='Regression Line')\n",
    "#plot the data point\n",
    "plt.scatter(X, Y, color='red', label='Data Point')\n",
    "# x-axis label\n",
    "plt.xlabel('Number of cases')\n",
    "#y-axis label\n",
    "plt.ylabel('delivery time')\n",
    "plt.legend()\n",
    "plt.show()"
   ]
  },
  {
   "cell_type": "markdown",
   "metadata": {},
   "source": [
    "# Conclusion\n",
    "\n",
    "So this is a really good example of how useful regression can be. For a distance of 700 ft the algorithm predicted that it would take about  34.8 minutes to deliver cases. When the number of cases is x, the algorithm predicts that at 20 cases, it would take about 46 minutes to get delivered. When the number of cases is the regressor, the error is a lot smaller and thus For further studies I would conduct this  data set on the gradient descent algorithm. \n"
   ]
  },
  {
   "cell_type": "markdown",
   "metadata": {},
   "source": [
    "# References\n",
    "\n",
    "Introduction to linear regression analysis / Douglas C. Montgomery, Elizabeth A. Peck, G. Geoffrey Vining. – 5th ed.\n"
   ]
  }
 ],
 "metadata": {
  "kernelspec": {
   "display_name": "Python 3",
   "language": "python",
   "name": "python3"
  },
  "language_info": {
   "codemirror_mode": {
    "name": "ipython",
    "version": 3
   },
   "file_extension": ".py",
   "mimetype": "text/x-python",
   "name": "python",
   "nbconvert_exporter": "python",
   "pygments_lexer": "ipython3",
   "version": "3.7.1"
  }
 },
 "nbformat": 4,
 "nbformat_minor": 4
}
